{
 "cells": [
  {
   "cell_type": "code",
   "execution_count": 1,
   "metadata": {
    "ExecuteTime": {
     "end_time": "2019-04-12T14:11:45.318057Z",
     "start_time": "2019-04-12T14:11:44.934940Z"
    }
   },
   "outputs": [],
   "source": [
    "cnf = sc.getConf()\\\n",
    ".set('spark.cores.max', '2')\\\n",
    ".set('spark.max.memory', '1g')\\\n",
    ".set('spark.executor.memory', '1g')\n",
    "sc.stop()\n",
    "sc = SparkContext(conf=cnf)\n",
    "spark = SparkSession(sc)"
   ]
  },
  {
   "cell_type": "code",
   "execution_count": 2,
   "metadata": {
    "ExecuteTime": {
     "end_time": "2019-04-12T14:11:45.336369Z",
     "start_time": "2019-04-12T14:11:45.320658Z"
    }
   },
   "outputs": [],
   "source": [
    "# import pandas as pd\n",
    "import os\n",
    "from os.path import join as pjoin\n",
    "from datetime import datetime as dt\n",
    "\n",
    "from pyspark.sql.types import *\n",
    "from pyspark.sql.functions import *"
   ]
  },
  {
   "cell_type": "code",
   "execution_count": 3,
   "metadata": {
    "ExecuteTime": {
     "end_time": "2019-04-12T14:11:45.341330Z",
     "start_time": "2019-04-12T14:11:45.338332Z"
    }
   },
   "outputs": [],
   "source": [
    "# df = spark.read.csv(data_dir, header=True, inferSchema=True)\n",
    "# df = pd.read_csv(data_path, engine='python')\n",
    "# df['type'].unique()"
   ]
  },
  {
   "cell_type": "code",
   "execution_count": 4,
   "metadata": {
    "ExecuteTime": {
     "end_time": "2019-04-12T14:11:45.350791Z",
     "start_time": "2019-04-12T14:11:45.344284Z"
    }
   },
   "outputs": [],
   "source": [
    "class DataVO(object):\n",
    "\n",
    "    def __init__(self, **kwargs):\n",
    "        self.stock_code = kwargs['stock_code']\n",
    "        self.date_time = kwargs['date_time']\n",
    "        self.change = kwargs['change']\n",
    "        self.price = kwargs['price']\n",
    "        self.volume = kwargs['volume']\n",
    "        self.amount = kwargs['amount']\n",
    "        self.typ = kwargs['typ']\n",
    "    \n",
    "    def __str__(self):\n",
    "        return str(f\"stock record for stock: {self.stock_code}, at time: {self.date_time}\")\n",
    "\n",
    "def ecapsulate(line: list):\n",
    "    date_time = line[0]\n",
    "    price = line[1]\n",
    "    change = line[2]\n",
    "    volume = line[3]\n",
    "    amount = line[4]\n",
    "    typ = line[5]\n",
    "    stock_code = line[6]\n",
    "    return DataVO(stock_code=stock_code, \n",
    "                 date_time=date_time, \n",
    "                 price=price, \n",
    "                 change=change, \n",
    "                 volume=volume, \n",
    "                 amount=amount, \n",
    "                 typ=typ)"
   ]
  },
  {
   "cell_type": "markdown",
   "metadata": {
    "heading_collapsed": true
   },
   "source": [
    "## spark"
   ]
  },
  {
   "cell_type": "code",
   "execution_count": 5,
   "metadata": {
    "ExecuteTime": {
     "end_time": "2019-04-12T14:11:49.515586Z",
     "start_time": "2019-04-12T14:11:49.512657Z"
    },
    "hidden": true
   },
   "outputs": [],
   "source": [
    "# import pandas as pd\n",
    "import os\n",
    "from os.path import join as pjoin\n",
    "from datetime import datetime as dt\n",
    "\n",
    "from pyspark.sql.types import *\n",
    "from pyspark.sql.functions import *"
   ]
  },
  {
   "cell_type": "code",
   "execution_count": 6,
   "metadata": {
    "ExecuteTime": {
     "end_time": "2019-04-12T14:11:49.782381Z",
     "start_time": "2019-04-12T14:11:49.771379Z"
    },
    "hidden": true
   },
   "outputs": [
    {
     "data": {
      "text/plain": [
       "['10stock_5min_data.csv',\n",
       " '10stock_tick_data.csv',\n",
       " '10stock_tick_data.csv.zip',\n",
       " 'test_data.csv']"
      ]
     },
     "execution_count": 6,
     "metadata": {},
     "output_type": "execute_result"
    }
   ],
   "source": [
    "data_dir = '../../data'\n",
    "data_path = pjoin(data_dir, '10stock_tick_data.csv')\n",
    "os.listdir(data_dir)"
   ]
  },
  {
   "cell_type": "code",
   "execution_count": 7,
   "metadata": {
    "ExecuteTime": {
     "end_time": "2019-04-12T14:11:50.955137Z",
     "start_time": "2019-04-12T14:11:50.379862Z"
    },
    "hidden": true
   },
   "outputs": [
    {
     "data": {
      "text/plain": [
       "../../data/10stock_tick_data.csv MapPartitionsRDD[1] at textFile at NativeMethodAccessorImpl.java:0"
      ]
     },
     "execution_count": 7,
     "metadata": {},
     "output_type": "execute_result"
    }
   ],
   "source": [
    "rdd = sc.textFile(data_path)\n",
    "rdd.cache()"
   ]
  },
  {
   "cell_type": "code",
   "execution_count": 8,
   "metadata": {
    "ExecuteTime": {
     "end_time": "2019-04-12T03:36:50.862108Z",
     "start_time": "2019-04-12T03:36:47.912286Z"
    },
    "hidden": true
   },
   "outputs": [
    {
     "data": {
      "text/plain": [
       "['datetime,price,change,volume,amount,type,stock_code',\n",
       " '2019-03-29 09:25:04,10.82,-0.09,816,882912,in,000001',\n",
       " '2019-03-29 09:30:00,10.92,0.1,136,148252,in,000001',\n",
       " '2019-03-29 09:30:03,10.84,-0.08,542,588171,mid,000001',\n",
       " '2019-03-29 09:30:06,10.84,0.0,45,48782,out,000001',\n",
       " '2019-03-29 09:30:10,10.88,0.04,40,43421,in,000001',\n",
       " '2019-03-29 09:30:12,10.87,-0.01,14,15218,mid,000001',\n",
       " '2019-03-29 09:30:16,10.88,0.01,154,167455,in,000001',\n",
       " '2019-03-29 09:30:21,10.9,0.02,20,21790,in,000001',\n",
       " '2019-03-29 09:30:24,10.88,-0.02,38,41414,out,000001']"
      ]
     },
     "execution_count": 8,
     "metadata": {},
     "output_type": "execute_result"
    }
   ],
   "source": [
    "rdd.take(10)"
   ]
  },
  {
   "cell_type": "code",
   "execution_count": 9,
   "metadata": {
    "ExecuteTime": {
     "end_time": "2019-04-12T03:46:44.076041Z",
     "start_time": "2019-04-12T03:46:44.073133Z"
    },
    "hidden": true
   },
   "outputs": [],
   "source": [
    "# rdd = sc.parallelize(['2019-03-29 09:25:04,10.82,-0.09,816,882912,in,000001\\n2019-03-29 09:30:00,10.92,0.1,136,148252,in,000001'])"
   ]
  },
  {
   "cell_type": "code",
   "execution_count": 10,
   "metadata": {
    "ExecuteTime": {
     "end_time": "2019-04-12T03:46:44.281704Z",
     "start_time": "2019-04-12T03:46:44.278930Z"
    },
    "hidden": true
   },
   "outputs": [],
   "source": [
    "# rdd.flatMap(lambda lines: lines.split('\\n')).collect()"
   ]
  },
  {
   "cell_type": "code",
   "execution_count": 11,
   "metadata": {
    "ExecuteTime": {
     "end_time": "2019-04-12T03:46:44.767500Z",
     "start_time": "2019-04-12T03:46:44.760178Z"
    },
    "hidden": true,
    "scrolled": true
   },
   "outputs": [],
   "source": [
    "lines = rdd.flatMap(lambda lines: lines.split('\\n'))\n",
    "field_lines = lines.map(lambda line: line.split(','))\n",
    "# cast string to column schema\n",
    "def cast_types(line):\n",
    "    try:\n",
    "        l = [dt.strptime(line[0], '%Y-%m-%d %X'), float(line[1]), float(line[2]), float(line[3]), float(line[4]), line[5], line[6]]\n",
    "    except ValueError as e:\n",
    "        l = [dt(2000, 1, 1, 0, 0, 0) , -1.0,  -1.0, -1.0, -1.0, '-1', '-1']\n",
    "    return l\n",
    "field_lines_casted = field_lines.map(cast_types)"
   ]
  },
  {
   "cell_type": "code",
   "execution_count": 12,
   "metadata": {
    "ExecuteTime": {
     "end_time": "2019-04-12T03:46:45.308660Z",
     "start_time": "2019-04-12T03:46:45.305849Z"
    },
    "hidden": true
   },
   "outputs": [],
   "source": [
    "# field_lines_casted.collect()\n",
    "# str(ecapsulate(range(7)))\n",
    "# lines.map(lambda line: line.split(',')).map(lambda rec: str(ecapsulate(rec))).collect()\n",
    "# lines.map(lambda line: line.split(',')).map(lambda rec: ecapsulate(rec)).map(lambda obj: obj.price).collect()"
   ]
  },
  {
   "cell_type": "code",
   "execution_count": 13,
   "metadata": {
    "ExecuteTime": {
     "end_time": "2019-04-12T03:46:45.580270Z",
     "start_time": "2019-04-12T03:46:45.575742Z"
    },
    "hidden": true
   },
   "outputs": [],
   "source": [
    "# create schema\n",
    "fields = ['time','price','change','volume','amount','type','stock_code']\n",
    "field_types = [TimestampType(), DoubleType(), DoubleType(), DoubleType(), DoubleType(), StringType(), StringType()]\n",
    "sfields = []\n",
    "for f, t in zip(fields, field_types):\n",
    "    sfields.append(StructField(f, t, True))\n",
    "schema = StructType(sfields)"
   ]
  },
  {
   "cell_type": "code",
   "execution_count": 14,
   "metadata": {
    "ExecuteTime": {
     "end_time": "2019-04-12T03:46:48.908066Z",
     "start_time": "2019-04-12T03:46:46.239863Z"
    },
    "hidden": true
   },
   "outputs": [],
   "source": [
    "# df = spark.createDataFrame(data=field_lines, schema=schema)\n",
    "df = field_lines_casted.toDF(schema=schema)"
   ]
  },
  {
   "cell_type": "code",
   "execution_count": 15,
   "metadata": {
    "ExecuteTime": {
     "end_time": "2019-04-12T03:46:50.499994Z",
     "start_time": "2019-04-12T03:46:48.910334Z"
    },
    "hidden": true
   },
   "outputs": [
    {
     "name": "stdout",
     "output_type": "stream",
     "text": [
      "+-------------------+-----+------+------+--------+----+----------+\n",
      "|               time|price|change|volume|  amount|type|stock_code|\n",
      "+-------------------+-----+------+------+--------+----+----------+\n",
      "|2000-01-01 00:00:00| -1.0|  -1.0|  -1.0|    -1.0|  -1|        -1|\n",
      "|2019-03-29 09:25:04|10.82| -0.09| 816.0|882912.0|  in|    000001|\n",
      "|2019-03-29 09:30:00|10.92|   0.1| 136.0|148252.0|  in|    000001|\n",
      "|2019-03-29 09:30:03|10.84| -0.08| 542.0|588171.0| mid|    000001|\n",
      "|2019-03-29 09:30:06|10.84|   0.0|  45.0| 48782.0| out|    000001|\n",
      "|2019-03-29 09:30:10|10.88|  0.04|  40.0| 43421.0|  in|    000001|\n",
      "|2019-03-29 09:30:12|10.87| -0.01|  14.0| 15218.0| mid|    000001|\n",
      "|2019-03-29 09:30:16|10.88|  0.01| 154.0|167455.0|  in|    000001|\n",
      "|2019-03-29 09:30:21| 10.9|  0.02|  20.0| 21790.0|  in|    000001|\n",
      "|2019-03-29 09:30:24|10.88| -0.02|  38.0| 41414.0| out|    000001|\n",
      "+-------------------+-----+------+------+--------+----+----------+\n",
      "only showing top 10 rows\n",
      "\n"
     ]
    }
   ],
   "source": [
    "df.show(10)"
   ]
  },
  {
   "cell_type": "code",
   "execution_count": 16,
   "metadata": {
    "ExecuteTime": {
     "end_time": "2019-04-12T03:47:00.469871Z",
     "start_time": "2019-04-12T03:46:52.915562Z"
    },
    "hidden": true
   },
   "outputs": [
    {
     "name": "stdout",
     "output_type": "stream",
     "text": [
      "+----------+------------------+\n",
      "|stock_code|        mean_price|\n",
      "+----------+------------------+\n",
      "|    000008|3.8767889908256885|\n",
      "|    000006|  5.88334991708123|\n",
      "|    000007| 8.551960326721115|\n",
      "|    000011|11.003074204947003|\n",
      "|    000010| 3.658470588235287|\n",
      "|    000009| 4.743333333333331|\n",
      "|    000001|11.003074204947003|\n",
      "|    000002|26.504330808080837|\n",
      "|    000005|3.0191596638655436|\n",
      "+----------+------------------+\n",
      "\n"
     ]
    }
   ],
   "source": [
    "df.createOrReplaceTempView(\"stock\")\n",
    "# spark.sql('select t.stock_code, mean(t.price) as mean_price from stock t where t.volume > 150 group by t.stock_code').show()\n",
    "spark.sql('select t.stock_code, mean(t.price) as mean_price from stock t where t.volume > 150 group by t.stock_code').show()"
   ]
  },
  {
   "cell_type": "code",
   "execution_count": 27,
   "metadata": {
    "ExecuteTime": {
     "end_time": "2019-04-12T08:59:05.192926Z",
     "start_time": "2019-04-12T08:59:02.871795Z"
    },
    "hidden": true
   },
   "outputs": [
    {
     "name": "stdout",
     "output_type": "stream",
     "text": [
      "+----------+------------------+\n",
      "|stock_code|        mean_price|\n",
      "+----------+------------------+\n",
      "|    000008|3.8767889908256885|\n",
      "|    000006|  5.88334991708123|\n",
      "|    000007| 8.551960326721115|\n",
      "|    000011|11.003074204947003|\n",
      "|    000010| 3.658470588235287|\n",
      "|    000009| 4.743333333333331|\n",
      "|    000001|11.003074204947003|\n",
      "|    000002|26.504330808080837|\n",
      "|    000005|3.0191596638655436|\n",
      "+----------+------------------+\n",
      "\n"
     ]
    }
   ],
   "source": [
    "df.filter('volume > 150').groupby('stock_code').mean('price').withColumnRenamed('avg(price)', 'mean_price').show()"
   ]
  },
  {
   "cell_type": "code",
   "execution_count": null,
   "metadata": {
    "hidden": true
   },
   "outputs": [],
   "source": [
    "test = sc.parallelize(['2019-03-29 09:25:04'])\n",
    "test.map(lambda x: dt.strptime('2019-03-29 09:25:04', '%Y-%m-%d %X')).collect()"
   ]
  },
  {
   "cell_type": "markdown",
   "metadata": {},
   "source": [
    "## streaming"
   ]
  },
  {
   "cell_type": "code",
   "execution_count": 8,
   "metadata": {
    "ExecuteTime": {
     "end_time": "2019-04-12T14:12:02.454201Z",
     "start_time": "2019-04-12T14:12:02.451046Z"
    }
   },
   "outputs": [],
   "source": [
    "# import pandas as pd\n",
    "import os\n",
    "from os.path import join as pjoin\n",
    "from pyspark.sql.types import *\n",
    "from datetime import datetime as dt"
   ]
  },
  {
   "cell_type": "code",
   "execution_count": 18,
   "metadata": {
    "ExecuteTime": {
     "end_time": "2019-04-12T14:16:58.359401Z",
     "start_time": "2019-04-12T14:16:58.354311Z"
    }
   },
   "outputs": [
    {
     "data": {
      "text/plain": [
       "['10stock_5min_data.csv',\n",
       " '10stock_tick_data.csv',\n",
       " '10stock_tick_data.csv.zip',\n",
       " 'test_data.csv']"
      ]
     },
     "execution_count": 18,
     "metadata": {},
     "output_type": "execute_result"
    }
   ],
   "source": [
    "data_dir = '../../data'\n",
    "data_path = pjoin(data_dir, '10stock_tick_data.csv')\n",
    "os.listdir(data_dir)"
   ]
  },
  {
   "cell_type": "code",
   "execution_count": 19,
   "metadata": {
    "ExecuteTime": {
     "end_time": "2019-04-12T14:16:59.063349Z",
     "start_time": "2019-04-12T14:16:59.055948Z"
    }
   },
   "outputs": [],
   "source": [
    "from pyspark.streaming import StreamingContext"
   ]
  },
  {
   "cell_type": "code",
   "execution_count": 22,
   "metadata": {
    "ExecuteTime": {
     "end_time": "2019-04-12T14:17:15.024874Z",
     "start_time": "2019-04-12T14:17:14.891848Z"
    }
   },
   "outputs": [],
   "source": [
    "rdd = sc.textFile(data_path)\n",
    "# file_length = rdd.map(lambda x: 1).reduce(lambda a,b: a+b)"
   ]
  },
  {
   "cell_type": "code",
   "execution_count": null,
   "metadata": {
    "ExecuteTime": {
     "start_time": "2019-04-12T14:17:39.324Z"
    }
   },
   "outputs": [],
   "source": [
    "# split the rdd into 5 equal-size parts\n",
    "rddQueue = rdd.randomSplit(range(10), seed=5003)\n",
    "# Create a StreamingContext with batch interval of 5 seconds\n",
    "ssc = StreamingContext(sc, 5)\n",
    "# Feed the rdd queue to a DStream\n",
    "rdds = ssc.queueStream(rddQueue)"
   ]
  },
  {
   "cell_type": "code",
   "execution_count": 8,
   "metadata": {
    "ExecuteTime": {
     "end_time": "2019-04-11T10:10:22.980235Z",
     "start_time": "2019-04-11T10:10:22.968197Z"
    }
   },
   "outputs": [],
   "source": [
    "# create schema\n",
    "fields = ['time','price','change','volume','amount','type','stock_code']\n",
    "field_types = [TimestampType(), DoubleType(), DoubleType(), DoubleType(), DoubleType(), StringType(), StringType()]\n",
    "sfields = []\n",
    "for f, t in zip(fields, field_types):\n",
    "    sfields.append(StructField(f, t, True))\n",
    "schema = StructType(sfields)\n",
    "\n",
    "# loading data\n",
    "lines = rdds.flatMap(lambda lines: lines.split('\\n'))\n",
    "field_lines = lines.map(lambda line: line.split(','))\n",
    "field_lines_casted = field_lines.map(lambda line: [dt.strptime(line[0], '%Y-%m-%d %X'), float(line[1]), float(line[2]), float(line[3]), float(line[4]), line[5], line[6]])"
   ]
  },
  {
   "cell_type": "code",
   "execution_count": 9,
   "metadata": {
    "ExecuteTime": {
     "end_time": "2019-04-11T10:10:23.805833Z",
     "start_time": "2019-04-11T10:10:23.797855Z"
    }
   },
   "outputs": [],
   "source": [
    "# Convert RDDs of the words DStream to DataFrame and run SQL query\n",
    "def process(time, rdd):\n",
    "    print(\"========= %s =========\" % str(time))\n",
    "\n",
    "    try:\n",
    "        # Get the singleton instance of SparkSession\n",
    "#         spark = getSparkSessionInstance(rdd.context.getConf())\n",
    "        df = rdd.toDF(schema=schema)\n",
    "        print(f\"for time: {time}\")\n",
    "        print(f\"{'-'*30}{time}{'-'*30}\")\n",
    "        df.createOrReplaceTempView(\"stock\")\n",
    "        ss.sql('select mean(t.price) as mean_price from stock t where t.volume > 150').show()\n",
    "    except:\n",
    "        pass"
   ]
  },
  {
   "cell_type": "code",
   "execution_count": 14,
   "metadata": {
    "ExecuteTime": {
     "end_time": "2019-04-11T10:09:01.349621Z",
     "start_time": "2019-04-11T10:09:01.321697Z"
    }
   },
   "outputs": [],
   "source": [
    "field_lines_casted.foreachRDD(process)"
   ]
  },
  {
   "cell_type": "code",
   "execution_count": 15,
   "metadata": {
    "ExecuteTime": {
     "end_time": "2019-04-11T10:09:36.179594Z",
     "start_time": "2019-04-11T10:09:08.942829Z"
    }
   },
   "outputs": [
    {
     "name": "stdout",
     "output_type": "stream",
     "text": [
      "========= 2019-04-11 18:09:09 =========\n",
      "for time: 2019-04-11 18:09:09\n",
      "------------------------------2019-04-11 18:09:09------------------------------\n",
      "========= 2019-04-11 18:09:10 =========\n",
      "for time: 2019-04-11 18:09:10\n",
      "------------------------------2019-04-11 18:09:10------------------------------\n",
      "========= 2019-04-11 18:09:11 =========\n",
      "for time: 2019-04-11 18:09:11\n",
      "------------------------------2019-04-11 18:09:11------------------------------\n",
      "========= 2019-04-11 18:09:12 =========\n",
      "for time: 2019-04-11 18:09:12\n",
      "------------------------------2019-04-11 18:09:12------------------------------\n",
      "========= 2019-04-11 18:09:13 =========\n",
      "for time: 2019-04-11 18:09:13\n",
      "------------------------------2019-04-11 18:09:13------------------------------\n",
      "========= 2019-04-11 18:09:14 =========\n",
      "for time: 2019-04-11 18:09:14\n",
      "------------------------------2019-04-11 18:09:14------------------------------\n",
      "========= 2019-04-11 18:09:15 =========\n",
      "for time: 2019-04-11 18:09:15\n",
      "------------------------------2019-04-11 18:09:15------------------------------\n",
      "========= 2019-04-11 18:09:16 =========\n",
      "for time: 2019-04-11 18:09:16\n",
      "------------------------------2019-04-11 18:09:16------------------------------\n",
      "========= 2019-04-11 18:09:17 =========\n",
      "for time: 2019-04-11 18:09:17\n",
      "------------------------------2019-04-11 18:09:17------------------------------\n",
      "========= 2019-04-11 18:09:18 =========\n",
      "for time: 2019-04-11 18:09:18\n",
      "------------------------------2019-04-11 18:09:18------------------------------\n",
      "========= 2019-04-11 18:09:19 =========\n",
      "for time: 2019-04-11 18:09:19\n",
      "------------------------------2019-04-11 18:09:19------------------------------\n",
      "========= 2019-04-11 18:09:20 =========\n",
      "for time: 2019-04-11 18:09:20\n",
      "------------------------------2019-04-11 18:09:20------------------------------\n",
      "========= 2019-04-11 18:09:21 =========\n",
      "for time: 2019-04-11 18:09:21\n",
      "------------------------------2019-04-11 18:09:21------------------------------\n",
      "========= 2019-04-11 18:09:22 =========\n",
      "for time: 2019-04-11 18:09:22\n",
      "------------------------------2019-04-11 18:09:22------------------------------\n",
      "========= 2019-04-11 18:09:23 =========\n",
      "for time: 2019-04-11 18:09:23\n",
      "------------------------------2019-04-11 18:09:23------------------------------\n",
      "========= 2019-04-11 18:09:24 =========\n",
      "for time: 2019-04-11 18:09:24\n",
      "------------------------------2019-04-11 18:09:24------------------------------\n",
      "========= 2019-04-11 18:09:25 =========\n",
      "for time: 2019-04-11 18:09:25\n",
      "------------------------------2019-04-11 18:09:25------------------------------\n",
      "========= 2019-04-11 18:09:26 =========\n",
      "for time: 2019-04-11 18:09:26\n",
      "------------------------------2019-04-11 18:09:26------------------------------\n",
      "========= 2019-04-11 18:09:27 =========\n",
      "for time: 2019-04-11 18:09:27\n",
      "------------------------------2019-04-11 18:09:27------------------------------\n",
      "========= 2019-04-11 18:09:28 =========\n",
      "for time: 2019-04-11 18:09:28\n",
      "------------------------------2019-04-11 18:09:28------------------------------\n",
      "========= 2019-04-11 18:09:29 =========\n",
      "for time: 2019-04-11 18:09:29\n",
      "------------------------------2019-04-11 18:09:29------------------------------\n",
      "========= 2019-04-11 18:09:30 =========\n",
      "for time: 2019-04-11 18:09:30\n",
      "------------------------------2019-04-11 18:09:30------------------------------\n",
      "========= 2019-04-11 18:09:31 =========\n",
      "for time: 2019-04-11 18:09:31\n",
      "------------------------------2019-04-11 18:09:31------------------------------\n",
      "========= 2019-04-11 18:09:32 =========\n",
      "for time: 2019-04-11 18:09:32\n",
      "------------------------------2019-04-11 18:09:32------------------------------\n",
      "========= 2019-04-11 18:09:33 =========\n",
      "for time: 2019-04-11 18:09:33\n",
      "------------------------------2019-04-11 18:09:33------------------------------\n",
      "========= 2019-04-11 18:09:34 =========\n",
      "for time: 2019-04-11 18:09:34\n",
      "------------------------------2019-04-11 18:09:34------------------------------\n",
      "========= 2019-04-11 18:09:35 =========\n",
      "for time: 2019-04-11 18:09:35\n",
      "------------------------------2019-04-11 18:09:35------------------------------\n",
      "========= 2019-04-11 18:09:36 =========\n",
      "for time: 2019-04-11 18:09:36\n",
      "------------------------------2019-04-11 18:09:36------------------------------\n"
     ]
    },
    {
     "ename": "Py4JJavaError",
     "evalue": "An error occurred while calling o116.awaitTermination.\n: java.lang.NullPointerException\r\n\tat org.apache.spark.storage.BlockManagerMaster.removeRdd(BlockManagerMaster.scala:126)\r\n\tat org.apache.spark.SparkContext.unpersistRDD(SparkContext.scala:1819)\r\n\tat org.apache.spark.rdd.RDD.unpersist(RDD.scala:217)\r\n\tat org.apache.spark.streaming.dstream.DStream$$anonfun$clearMetadata$3.apply(DStream.scala:458)\r\n\tat org.apache.spark.streaming.dstream.DStream$$anonfun$clearMetadata$3.apply(DStream.scala:457)\r\n\tat scala.collection.mutable.HashMap$$anon$2$$anonfun$foreach$3.apply(HashMap.scala:139)\r\n\tat scala.collection.mutable.HashMap$$anon$2$$anonfun$foreach$3.apply(HashMap.scala:139)\r\n\tat scala.collection.mutable.HashTable$class.foreachEntry(HashTable.scala:236)\r\n\tat scala.collection.mutable.HashMap.foreachEntry(HashMap.scala:40)\r\n\tat scala.collection.mutable.HashMap$$anon$2.foreach(HashMap.scala:139)\r\n\tat org.apache.spark.streaming.dstream.DStream.clearMetadata(DStream.scala:457)\r\n\tat org.apache.spark.streaming.dstream.DStream$$anonfun$clearMetadata$5.apply(DStream.scala:470)\r\n\tat org.apache.spark.streaming.dstream.DStream$$anonfun$clearMetadata$5.apply(DStream.scala:470)\r\n\tat scala.collection.immutable.List.foreach(List.scala:392)\r\n\tat org.apache.spark.streaming.dstream.DStream.clearMetadata(DStream.scala:470)\r\n\tat org.apache.spark.streaming.DStreamGraph$$anonfun$clearMetadata$2.apply(DStreamGraph.scala:134)\r\n\tat org.apache.spark.streaming.DStreamGraph$$anonfun$clearMetadata$2.apply(DStreamGraph.scala:134)\r\n\tat scala.collection.mutable.ResizableArray$class.foreach(ResizableArray.scala:59)\r\n\tat scala.collection.mutable.ArrayBuffer.foreach(ArrayBuffer.scala:48)\r\n\tat org.apache.spark.streaming.DStreamGraph.clearMetadata(DStreamGraph.scala:134)\r\n\tat org.apache.spark.streaming.scheduler.JobGenerator.clearMetadata(JobGenerator.scala:263)\r\n\tat org.apache.spark.streaming.scheduler.JobGenerator.org$apache$spark$streaming$scheduler$JobGenerator$$processEvent(JobGenerator.scala:184)\r\n\tat org.apache.spark.streaming.scheduler.JobGenerator$$anon$1.onReceive(JobGenerator.scala:89)\r\n\tat org.apache.spark.streaming.scheduler.JobGenerator$$anon$1.onReceive(JobGenerator.scala:88)\r\n\tat org.apache.spark.util.EventLoop$$anon$1.run(EventLoop.scala:49)\r\n",
     "output_type": "error",
     "traceback": [
      "\u001b[1;31m---------------------------------------------------------------------------\u001b[0m",
      "\u001b[1;31mPy4JJavaError\u001b[0m                             Traceback (most recent call last)",
      "\u001b[1;32m<ipython-input-15-18f3db416f1c>\u001b[0m in \u001b[0;36m<module>\u001b[1;34m\u001b[0m\n\u001b[0;32m      1\u001b[0m \u001b[0mssc\u001b[0m\u001b[1;33m.\u001b[0m\u001b[0mstart\u001b[0m\u001b[1;33m(\u001b[0m\u001b[1;33m)\u001b[0m\u001b[1;33m\u001b[0m\u001b[1;33m\u001b[0m\u001b[0m\n\u001b[1;32m----> 2\u001b[1;33m \u001b[0mssc\u001b[0m\u001b[1;33m.\u001b[0m\u001b[0mawaitTermination\u001b[0m\u001b[1;33m(\u001b[0m\u001b[1;33m)\u001b[0m\u001b[1;33m\u001b[0m\u001b[1;33m\u001b[0m\u001b[0m\n\u001b[0m",
      "\u001b[1;32m~\\Development\\spark\\python\\pyspark\\streaming\\context.py\u001b[0m in \u001b[0;36mawaitTermination\u001b[1;34m(self, timeout)\u001b[0m\n\u001b[0;32m    190\u001b[0m         \"\"\"\n\u001b[0;32m    191\u001b[0m         \u001b[1;32mif\u001b[0m \u001b[0mtimeout\u001b[0m \u001b[1;32mis\u001b[0m \u001b[1;32mNone\u001b[0m\u001b[1;33m:\u001b[0m\u001b[1;33m\u001b[0m\u001b[1;33m\u001b[0m\u001b[0m\n\u001b[1;32m--> 192\u001b[1;33m             \u001b[0mself\u001b[0m\u001b[1;33m.\u001b[0m\u001b[0m_jssc\u001b[0m\u001b[1;33m.\u001b[0m\u001b[0mawaitTermination\u001b[0m\u001b[1;33m(\u001b[0m\u001b[1;33m)\u001b[0m\u001b[1;33m\u001b[0m\u001b[1;33m\u001b[0m\u001b[0m\n\u001b[0m\u001b[0;32m    193\u001b[0m         \u001b[1;32melse\u001b[0m\u001b[1;33m:\u001b[0m\u001b[1;33m\u001b[0m\u001b[1;33m\u001b[0m\u001b[0m\n\u001b[0;32m    194\u001b[0m             \u001b[0mself\u001b[0m\u001b[1;33m.\u001b[0m\u001b[0m_jssc\u001b[0m\u001b[1;33m.\u001b[0m\u001b[0mawaitTerminationOrTimeout\u001b[0m\u001b[1;33m(\u001b[0m\u001b[0mint\u001b[0m\u001b[1;33m(\u001b[0m\u001b[0mtimeout\u001b[0m \u001b[1;33m*\u001b[0m \u001b[1;36m1000\u001b[0m\u001b[1;33m)\u001b[0m\u001b[1;33m)\u001b[0m\u001b[1;33m\u001b[0m\u001b[1;33m\u001b[0m\u001b[0m\n",
      "\u001b[1;32m~\\Development\\spark\\python\\lib\\py4j-0.10.7-src.zip\\py4j\\java_gateway.py\u001b[0m in \u001b[0;36m__call__\u001b[1;34m(self, *args)\u001b[0m\n\u001b[0;32m   1255\u001b[0m         \u001b[0manswer\u001b[0m \u001b[1;33m=\u001b[0m \u001b[0mself\u001b[0m\u001b[1;33m.\u001b[0m\u001b[0mgateway_client\u001b[0m\u001b[1;33m.\u001b[0m\u001b[0msend_command\u001b[0m\u001b[1;33m(\u001b[0m\u001b[0mcommand\u001b[0m\u001b[1;33m)\u001b[0m\u001b[1;33m\u001b[0m\u001b[1;33m\u001b[0m\u001b[0m\n\u001b[0;32m   1256\u001b[0m         return_value = get_return_value(\n\u001b[1;32m-> 1257\u001b[1;33m             answer, self.gateway_client, self.target_id, self.name)\n\u001b[0m\u001b[0;32m   1258\u001b[0m \u001b[1;33m\u001b[0m\u001b[0m\n\u001b[0;32m   1259\u001b[0m         \u001b[1;32mfor\u001b[0m \u001b[0mtemp_arg\u001b[0m \u001b[1;32min\u001b[0m \u001b[0mtemp_args\u001b[0m\u001b[1;33m:\u001b[0m\u001b[1;33m\u001b[0m\u001b[1;33m\u001b[0m\u001b[0m\n",
      "\u001b[1;32m~\\Development\\spark\\python\\pyspark\\sql\\utils.py\u001b[0m in \u001b[0;36mdeco\u001b[1;34m(*a, **kw)\u001b[0m\n\u001b[0;32m     61\u001b[0m     \u001b[1;32mdef\u001b[0m \u001b[0mdeco\u001b[0m\u001b[1;33m(\u001b[0m\u001b[1;33m*\u001b[0m\u001b[0ma\u001b[0m\u001b[1;33m,\u001b[0m \u001b[1;33m**\u001b[0m\u001b[0mkw\u001b[0m\u001b[1;33m)\u001b[0m\u001b[1;33m:\u001b[0m\u001b[1;33m\u001b[0m\u001b[1;33m\u001b[0m\u001b[0m\n\u001b[0;32m     62\u001b[0m         \u001b[1;32mtry\u001b[0m\u001b[1;33m:\u001b[0m\u001b[1;33m\u001b[0m\u001b[1;33m\u001b[0m\u001b[0m\n\u001b[1;32m---> 63\u001b[1;33m             \u001b[1;32mreturn\u001b[0m \u001b[0mf\u001b[0m\u001b[1;33m(\u001b[0m\u001b[1;33m*\u001b[0m\u001b[0ma\u001b[0m\u001b[1;33m,\u001b[0m \u001b[1;33m**\u001b[0m\u001b[0mkw\u001b[0m\u001b[1;33m)\u001b[0m\u001b[1;33m\u001b[0m\u001b[1;33m\u001b[0m\u001b[0m\n\u001b[0m\u001b[0;32m     64\u001b[0m         \u001b[1;32mexcept\u001b[0m \u001b[0mpy4j\u001b[0m\u001b[1;33m.\u001b[0m\u001b[0mprotocol\u001b[0m\u001b[1;33m.\u001b[0m\u001b[0mPy4JJavaError\u001b[0m \u001b[1;32mas\u001b[0m \u001b[0me\u001b[0m\u001b[1;33m:\u001b[0m\u001b[1;33m\u001b[0m\u001b[1;33m\u001b[0m\u001b[0m\n\u001b[0;32m     65\u001b[0m             \u001b[0ms\u001b[0m \u001b[1;33m=\u001b[0m \u001b[0me\u001b[0m\u001b[1;33m.\u001b[0m\u001b[0mjava_exception\u001b[0m\u001b[1;33m.\u001b[0m\u001b[0mtoString\u001b[0m\u001b[1;33m(\u001b[0m\u001b[1;33m)\u001b[0m\u001b[1;33m\u001b[0m\u001b[1;33m\u001b[0m\u001b[0m\n",
      "\u001b[1;32m~\\Development\\spark\\python\\lib\\py4j-0.10.7-src.zip\\py4j\\protocol.py\u001b[0m in \u001b[0;36mget_return_value\u001b[1;34m(answer, gateway_client, target_id, name)\u001b[0m\n\u001b[0;32m    326\u001b[0m                 raise Py4JJavaError(\n\u001b[0;32m    327\u001b[0m                     \u001b[1;34m\"An error occurred while calling {0}{1}{2}.\\n\"\u001b[0m\u001b[1;33m.\u001b[0m\u001b[1;33m\u001b[0m\u001b[1;33m\u001b[0m\u001b[0m\n\u001b[1;32m--> 328\u001b[1;33m                     transform(target_id, \".\", name), value)\n\u001b[0m\u001b[0;32m    329\u001b[0m             \u001b[1;32melse\u001b[0m\u001b[1;33m:\u001b[0m\u001b[1;33m\u001b[0m\u001b[1;33m\u001b[0m\u001b[0m\n\u001b[0;32m    330\u001b[0m                 raise Py4JError(\n",
      "\u001b[1;31mPy4JJavaError\u001b[0m: An error occurred while calling o116.awaitTermination.\n: java.lang.NullPointerException\r\n\tat org.apache.spark.storage.BlockManagerMaster.removeRdd(BlockManagerMaster.scala:126)\r\n\tat org.apache.spark.SparkContext.unpersistRDD(SparkContext.scala:1819)\r\n\tat org.apache.spark.rdd.RDD.unpersist(RDD.scala:217)\r\n\tat org.apache.spark.streaming.dstream.DStream$$anonfun$clearMetadata$3.apply(DStream.scala:458)\r\n\tat org.apache.spark.streaming.dstream.DStream$$anonfun$clearMetadata$3.apply(DStream.scala:457)\r\n\tat scala.collection.mutable.HashMap$$anon$2$$anonfun$foreach$3.apply(HashMap.scala:139)\r\n\tat scala.collection.mutable.HashMap$$anon$2$$anonfun$foreach$3.apply(HashMap.scala:139)\r\n\tat scala.collection.mutable.HashTable$class.foreachEntry(HashTable.scala:236)\r\n\tat scala.collection.mutable.HashMap.foreachEntry(HashMap.scala:40)\r\n\tat scala.collection.mutable.HashMap$$anon$2.foreach(HashMap.scala:139)\r\n\tat org.apache.spark.streaming.dstream.DStream.clearMetadata(DStream.scala:457)\r\n\tat org.apache.spark.streaming.dstream.DStream$$anonfun$clearMetadata$5.apply(DStream.scala:470)\r\n\tat org.apache.spark.streaming.dstream.DStream$$anonfun$clearMetadata$5.apply(DStream.scala:470)\r\n\tat scala.collection.immutable.List.foreach(List.scala:392)\r\n\tat org.apache.spark.streaming.dstream.DStream.clearMetadata(DStream.scala:470)\r\n\tat org.apache.spark.streaming.DStreamGraph$$anonfun$clearMetadata$2.apply(DStreamGraph.scala:134)\r\n\tat org.apache.spark.streaming.DStreamGraph$$anonfun$clearMetadata$2.apply(DStreamGraph.scala:134)\r\n\tat scala.collection.mutable.ResizableArray$class.foreach(ResizableArray.scala:59)\r\n\tat scala.collection.mutable.ArrayBuffer.foreach(ArrayBuffer.scala:48)\r\n\tat org.apache.spark.streaming.DStreamGraph.clearMetadata(DStreamGraph.scala:134)\r\n\tat org.apache.spark.streaming.scheduler.JobGenerator.clearMetadata(JobGenerator.scala:263)\r\n\tat org.apache.spark.streaming.scheduler.JobGenerator.org$apache$spark$streaming$scheduler$JobGenerator$$processEvent(JobGenerator.scala:184)\r\n\tat org.apache.spark.streaming.scheduler.JobGenerator$$anon$1.onReceive(JobGenerator.scala:89)\r\n\tat org.apache.spark.streaming.scheduler.JobGenerator$$anon$1.onReceive(JobGenerator.scala:88)\r\n\tat org.apache.spark.util.EventLoop$$anon$1.run(EventLoop.scala:49)\r\n"
     ]
    },
    {
     "name": "stdout",
     "output_type": "stream",
     "text": [
      "========= 2019-04-11 18:09:37 =========\n",
      "for time: 2019-04-11 18:09:37\n",
      "------------------------------2019-04-11 18:09:37------------------------------\n",
      "========= 2019-04-11 18:09:38 =========\n",
      "for time: 2019-04-11 18:09:38\n",
      "------------------------------2019-04-11 18:09:38------------------------------\n",
      "========= 2019-04-11 18:09:39 =========\n",
      "for time: 2019-04-11 18:09:39\n",
      "------------------------------2019-04-11 18:09:39------------------------------\n",
      "========= 2019-04-11 18:09:40 =========\n",
      "for time: 2019-04-11 18:09:40\n",
      "------------------------------2019-04-11 18:09:40------------------------------\n",
      "========= 2019-04-11 18:09:41 =========\n",
      "for time: 2019-04-11 18:09:41\n",
      "------------------------------2019-04-11 18:09:41------------------------------\n",
      "========= 2019-04-11 18:09:42 =========\n",
      "for time: 2019-04-11 18:09:42\n",
      "------------------------------2019-04-11 18:09:42------------------------------\n",
      "========= 2019-04-11 18:09:43 =========\n",
      "for time: 2019-04-11 18:09:43\n",
      "------------------------------2019-04-11 18:09:43------------------------------\n",
      "========= 2019-04-11 18:09:44 =========\n",
      "for time: 2019-04-11 18:09:44\n",
      "------------------------------2019-04-11 18:09:44------------------------------\n",
      "========= 2019-04-11 18:09:45 =========\n",
      "for time: 2019-04-11 18:09:45\n",
      "------------------------------2019-04-11 18:09:45------------------------------\n"
     ]
    }
   ],
   "source": [
    "ssc.start()\n",
    "ssc.awaitTermination(30)\n",
    "ssc.stop(False)"
   ]
  },
  {
   "cell_type": "code",
   "execution_count": null,
   "metadata": {
    "ExecuteTime": {
     "start_time": "2019-04-11T08:26:48.403Z"
    }
   },
   "outputs": [],
   "source": []
  },
  {
   "cell_type": "code",
   "execution_count": null,
   "metadata": {},
   "outputs": [],
   "source": []
  }
 ],
 "metadata": {
  "kernelspec": {
   "display_name": "Python 3",
   "language": "python",
   "name": "python3"
  },
  "language_info": {
   "codemirror_mode": {
    "name": "ipython",
    "version": 3
   },
   "file_extension": ".py",
   "mimetype": "text/x-python",
   "name": "python",
   "nbconvert_exporter": "python",
   "pygments_lexer": "ipython3",
   "version": "3.6.7"
  }
 },
 "nbformat": 4,
 "nbformat_minor": 2
}
